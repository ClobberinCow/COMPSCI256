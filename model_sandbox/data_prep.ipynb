{
 "cells": [
  {
   "cell_type": "code",
   "execution_count": 8,
   "metadata": {},
   "outputs": [],
   "source": [
    "import csv\n",
    "CICIDS_attacks = []\n",
    "CICIDS_benign = []\n",
    "\n",
    "CICIDS_all = []\n",
    "\n",
    "with open(\"C:\\\\Users\\\\cyphi\\\\OneDrive\\\\Documents\\\\School\\\\256\\\\MLinMCU\\\\tmpholding\\\\CICIDS2017\\\\MachineLearningCSV\\\\MachineLearningCVE\\\\Friday-WorkingHours-Afternoon-DDos.pcap_ISCX.csv\", mode = 'r') as f:\n",
    "    file = csv.reader(f)\n",
    "    i = 0\n",
    "    for row in file:\n",
    "        CICIDS_all.append(row)"
   ]
  },
  {
   "cell_type": "code",
   "execution_count": 9,
   "metadata": {},
   "outputs": [
    {
     "name": "stdout",
     "output_type": "stream",
     "text": [
      "[' Destination Port', ' Flow Duration', ' Total Fwd Packets', ' Total Backward Packets', 'Total Length of Fwd Packets', ' Total Length of Bwd Packets', ' Fwd Packet Length Max', ' Fwd Packet Length Min', ' Fwd Packet Length Mean', ' Fwd Packet Length Std', 'Bwd Packet Length Max', ' Bwd Packet Length Min', ' Bwd Packet Length Mean', ' Bwd Packet Length Std', 'Flow Bytes/s', ' Flow Packets/s', ' Flow IAT Mean', ' Flow IAT Std', ' Flow IAT Max', ' Flow IAT Min', 'Fwd IAT Total', ' Fwd IAT Mean', ' Fwd IAT Std', ' Fwd IAT Max', ' Fwd IAT Min', 'Bwd IAT Total', ' Bwd IAT Mean', ' Bwd IAT Std', ' Bwd IAT Max', ' Bwd IAT Min', 'Fwd PSH Flags', ' Bwd PSH Flags', ' Fwd URG Flags', ' Bwd URG Flags', ' Fwd Header Length', ' Bwd Header Length', 'Fwd Packets/s', ' Bwd Packets/s', ' Min Packet Length', ' Max Packet Length', ' Packet Length Mean', ' Packet Length Std', ' Packet Length Variance', 'FIN Flag Count', ' SYN Flag Count', ' RST Flag Count', ' PSH Flag Count', ' ACK Flag Count', ' URG Flag Count', ' CWE Flag Count', ' ECE Flag Count', ' Down/Up Ratio', ' Average Packet Size', ' Avg Fwd Segment Size', ' Avg Bwd Segment Size', ' Fwd Header Length', 'Fwd Avg Bytes/Bulk', ' Fwd Avg Packets/Bulk', ' Fwd Avg Bulk Rate', ' Bwd Avg Bytes/Bulk', ' Bwd Avg Packets/Bulk', 'Bwd Avg Bulk Rate', 'Subflow Fwd Packets', ' Subflow Fwd Bytes', ' Subflow Bwd Packets', ' Subflow Bwd Bytes', 'Init_Win_bytes_forward', ' Init_Win_bytes_backward', ' act_data_pkt_fwd', ' min_seg_size_forward', 'Active Mean', ' Active Std', ' Active Max', ' Active Min', 'Idle Mean', ' Idle Std', ' Idle Max', ' Idle Min', ' Label']\n",
      "['54865', '3', '2', '0', '12', '0', '6', '6', '6', '0', '0', '0', '0', '0', '4000000', '666666.6667', '3', '0', '3', '3', '3', '3', '0', '3', '3', '0', '0', '0', '0', '0', '0', '0', '0', '0', '40', '0', '666666.6667', '0', '6', '6', '6', '0', '0', '0', '0', '0', '0', '1', '0', '0', '0', '0', '9', '6', '0', '40', '0', '0', '0', '0', '0', '0', '2', '12', '0', '0', '33', '-1', '1', '20', '0', '0', '0', '0', '0', '0', '0', '0', 'BENIGN']\n"
     ]
    }
   ],
   "source": [
    "print(CICIDS_all[0])\n",
    "print(CICIDS_all[1])\n"
   ]
  },
  {
   "cell_type": "code",
   "execution_count": 10,
   "metadata": {},
   "outputs": [],
   "source": [
    "headers = CICIDS_all.pop(0)\n",
    "for row in CICIDS_all:\n",
    "    if \"BENIGN\" in row[len(row)-1]:\n",
    "        CICIDS_benign.append(row)\n",
    "    else:\n",
    "        CICIDS_attacks.append(row)"
   ]
  },
  {
   "cell_type": "code",
   "execution_count": 39,
   "metadata": {},
   "outputs": [
    {
     "name": "stdout",
     "output_type": "stream",
     "text": [
      "128027\n",
      "97718\n"
     ]
    }
   ],
   "source": [
    "print(len(CICIDS_attacks))\n",
    "print(len(CICIDS_benign))\n"
   ]
  },
  {
   "cell_type": "code",
   "execution_count": 45,
   "metadata": {},
   "outputs": [],
   "source": [
    "idx = 0\n",
    "openbrace = \"{\"\n",
    "ben = f\"float benign[5][79] = {openbrace}\"\n",
    "for row in CICIDS_benign:\n",
    "    ben += \"{\"\n",
    "    for val in row:\n",
    "        tmp = float(val)\n",
    "        ben += (val)\n",
    "        ben += \", \"\n",
    "    ben = ben[:-2]\n",
    "    ben += \"},\"\n",
    "    idx += 1\n",
    "    if (idx > 4):\n",
    "        break\n",
    "ben = ben[:-1]\n",
    "ben += \"}\""
   ]
  },
  {
   "cell_type": "code",
   "execution_count": 43,
   "metadata": {},
   "outputs": [],
   "source": [
    "idx = 0\n",
    "openbrace = \"{\"\n",
    "atk = f\"float attack[5][79] = {openbrace}\"\n",
    "for row in CICIDS_attacks:\n",
    "    atk += \"{\"\n",
    "    for val in row:\n",
    "        tmp = float(val)\n",
    "        atk += (val)\n",
    "        atk += \", \"\n",
    "    atk = atk[:-2]\n",
    "    atk += \"},\"\n",
    "    idx += 1\n",
    "    if (idx > 4):\n",
    "        break\n",
    "atk = atk[:-1]\n",
    "atk += \"}\""
   ]
  },
  {
   "cell_type": "code",
   "execution_count": 46,
   "metadata": {},
   "outputs": [
    {
     "data": {
      "text/plain": [
       "'float benign[5][79] = {{54865, 3, 2, 0, 12, 0, 6, 6, 6, 0, 0, 0, 0, 0, 4000000, 666666.6667, 3, 0, 3, 3, 3, 3, 0, 3, 3, 0, 0, 0, 0, 0, 0, 0, 0, 0, 40, 0, 666666.6667, 0, 6, 6, 6, 0, 0, 0, 0, 0, 0, 1, 0, 0, 0, 0, 9, 6, 0, 40, 0, 0, 0, 0, 0, 0, 2, 12, 0, 0, 33, -1, 1, 20, 0, 0, 0, 0, 0, 0, 0, 0},{55054, 109, 1, 1, 6, 6, 6, 6, 6, 0, 6, 6, 6, 0, 110091.7431, 18348.62385, 109, 0, 109, 109, 0, 0, 0, 0, 0, 0, 0, 0, 0, 0, 0, 0, 0, 0, 20, 20, 9174.311927, 9174.311927, 6, 6, 6, 0, 0, 0, 0, 0, 0, 1, 1, 0, 0, 1, 9, 6, 6, 20, 0, 0, 0, 0, 0, 0, 1, 6, 1, 6, 29, 256, 0, 20, 0, 0, 0, 0, 0, 0, 0, 0},{55055, 52, 1, 1, 6, 6, 6, 6, 6, 0, 6, 6, 6, 0, 230769.2308, 38461.53846, 52, 0, 52, 52, 0, 0, 0, 0, 0, 0, 0, 0, 0, 0, 0, 0, 0, 0, 20, 20, 19230.76923, 19230.76923, 6, 6, 6, 0, 0, 0, 0, 0, 0, 1, 1, 0, 0, 1, 9, 6, 6, 20, 0, 0, 0, 0, 0, 0, 1, 6, 1, 6, 29, 256, 0, 20, 0, 0, 0, 0, 0, 0, 0, 0},{46236, 34, 1, 1, 6, 6, 6, 6, 6, 0, 6, 6, 6, 0, 352941.1765, 58823.52941, 34, 0, 34, 34, 0, 0, 0, 0, 0, 0, 0, 0, 0, 0, 0, 0, 0, 0, 20, 20, 29411.76471, 29411.76471, 6, 6, 6, 0, 0, 0, 0, 0, 0, 1, 1, 0, 0, 1, 9, 6, 6, 20, 0, 0, 0, 0, 0, 0, 1, 6, 1, 6, 31, 329, 0, 20, 0, 0, 0, 0, 0, 0, 0, 0},{54863, 3, 2, 0, 12, 0, 6, 6, 6, 0, 0, 0, 0, 0, 4000000, 666666.6667, 3, 0, 3, 3, 3, 3, 0, 3, 3, 0, 0, 0, 0, 0, 0, 0, 0, 0, 40, 0, 666666.6667, 0, 6, 6, 6, 0, 0, 0, 0, 0, 0, 1, 0, 0, 0, 0, 9, 6, 0, 40, 0, 0, 0, 0, 0, 0, 2, 12, 0, 0, 32, -1, 1, 20, 0, 0, 0, 0, 0, 0, 0, 0}}'"
      ]
     },
     "execution_count": 46,
     "metadata": {},
     "output_type": "execute_result"
    }
   ],
   "source": [
    "\n"
   ]
  },
  {
   "cell_type": "code",
   "execution_count": 47,
   "metadata": {},
   "outputs": [],
   "source": [
    "with open(\"C:\\\\Users\\\\cyphi\\\\OneDrive\\\\Documents\\\\School\\\\256\\\\MLinMCU\\\\tmpholding\\\\CICIDS2017\\\\MachineLearningCSV\\\\MachineLearningCVE\\\\out.cpp\", mode = 'w') as f:\n",
    "    f.write(ben)\n",
    "    f.write(atk)"
   ]
  },
  {
   "cell_type": "code",
   "execution_count": 8,
   "metadata": {},
   "outputs": [
    {
     "name": "stdout",
     "output_type": "stream",
     "text": [
      "[[ -2.7930474  -7.4030547   5.7047048   5.5483794 -30.091612    6.7472506\n",
      "   -7.6459026   2.3068733  -1.3174948  -5.3650494]]\n"
     ]
    }
   ],
   "source": [
    "import numpy as np\n",
    "import tensorflow as tf\n",
    "\n",
    "# Load TFLite model and allocate tensors.\n",
    "interpreter = tf.lite.Interpreter(model_path=\"C:\\\\Users\\\\cyphi\\\\OneDrive\\\\Documents\\\\School\\\\256\\MLinMCU\\\\COMPSCI256\\\\model_sandbox\\\\MNIST\\\\mnistnn.tflite\")\n",
    "interpreter.allocate_tensors()\n",
    "\n",
    "# Get input and output tensors.\n",
    "input_details = interpreter.get_input_details()\n",
    "output_details = interpreter.get_output_details()\n",
    "\n",
    "# Test model on random input data.\n",
    "input_shape = input_details[0]['shape']\n",
    "input_data = np.array(np.random.random_sample(input_shape), dtype=np.float32)\n",
    "interpreter.set_tensor(input_details[0]['index'], input_data)\n",
    "\n",
    "interpreter.invoke()\n",
    "\n",
    "# The function `get_tensor()` returns a copy of the tensor data.\n",
    "# Use `tensor()` in order to get a pointer to the tensor.\n",
    "output_data = interpreter.get_tensor(output_details[0]['index'])\n",
    "print(output_data)"
   ]
  },
  {
   "cell_type": "code",
   "execution_count": 6,
   "metadata": {},
   "outputs": [
    {
     "data": {
      "text/plain": [
       "[{'name': 'StatefulPartitionedCall:0',\n",
       "  'index': 8,\n",
       "  'shape': array([ 1, 10]),\n",
       "  'shape_signature': array([-1, 10]),\n",
       "  'dtype': numpy.float32,\n",
       "  'quantization': (0.0, 0),\n",
       "  'quantization_parameters': {'scales': array([], dtype=float32),\n",
       "   'zero_points': array([], dtype=int32),\n",
       "   'quantized_dimension': 0},\n",
       "  'sparsity_parameters': {}}]"
      ]
     },
     "execution_count": 6,
     "metadata": {},
     "output_type": "execute_result"
    }
   ],
   "source": [
    "output_details\n"
   ]
  }
 ],
 "metadata": {
  "kernelspec": {
   "display_name": "Python 3",
   "language": "python",
   "name": "python3"
  },
  "language_info": {
   "codemirror_mode": {
    "name": "ipython",
    "version": 3
   },
   "file_extension": ".py",
   "mimetype": "text/x-python",
   "name": "python",
   "nbconvert_exporter": "python",
   "pygments_lexer": "ipython3",
   "version": "3.11.6"
  }
 },
 "nbformat": 4,
 "nbformat_minor": 2
}
