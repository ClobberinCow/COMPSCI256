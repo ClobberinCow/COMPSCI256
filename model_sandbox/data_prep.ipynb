{
 "cells": [
  {
   "cell_type": "code",
   "execution_count": 58,
   "metadata": {},
   "outputs": [],
   "source": [
    "import csv\n",
    "CICIDS_attacks = []\n",
    "CICIDS_benign = []\n",
    "\n",
    "CICIDS_all = []\n",
    "\n",
    "with open(\"C:\\\\Users\\\\cyphi\\\\OneDrive\\\\Documents\\\\School\\\\256\\\\MLinMCU\\\\tmpholding\\\\CICIDS2017\\\\MachineLearningCSV\\\\MachineLearningCVE\\\\Friday-WorkingHours-Afternoon-DDos.pcap_ISCX.csv\", mode = 'r') as f:\n",
    "    file = csv.reader(f)\n",
    "    i = 0\n",
    "    for row in file:\n",
    "        CICIDS_all.append(row)"
   ]
  },
  {
   "cell_type": "code",
   "execution_count": 59,
   "metadata": {},
   "outputs": [
    {
     "name": "stdout",
     "output_type": "stream",
     "text": [
      "[' Destination Port', ' Flow Duration', ' Total Fwd Packets', ' Total Backward Packets', 'Total Length of Fwd Packets', ' Total Length of Bwd Packets', ' Fwd Packet Length Max', ' Fwd Packet Length Min', ' Fwd Packet Length Mean', ' Fwd Packet Length Std', 'Bwd Packet Length Max', ' Bwd Packet Length Min', ' Bwd Packet Length Mean', ' Bwd Packet Length Std', 'Flow Bytes/s', ' Flow Packets/s', ' Flow IAT Mean', ' Flow IAT Std', ' Flow IAT Max', ' Flow IAT Min', 'Fwd IAT Total', ' Fwd IAT Mean', ' Fwd IAT Std', ' Fwd IAT Max', ' Fwd IAT Min', 'Bwd IAT Total', ' Bwd IAT Mean', ' Bwd IAT Std', ' Bwd IAT Max', ' Bwd IAT Min', 'Fwd PSH Flags', ' Bwd PSH Flags', ' Fwd URG Flags', ' Bwd URG Flags', ' Fwd Header Length', ' Bwd Header Length', 'Fwd Packets/s', ' Bwd Packets/s', ' Min Packet Length', ' Max Packet Length', ' Packet Length Mean', ' Packet Length Std', ' Packet Length Variance', 'FIN Flag Count', ' SYN Flag Count', ' RST Flag Count', ' PSH Flag Count', ' ACK Flag Count', ' URG Flag Count', ' CWE Flag Count', ' ECE Flag Count', ' Down/Up Ratio', ' Average Packet Size', ' Avg Fwd Segment Size', ' Avg Bwd Segment Size', ' Fwd Header Length', 'Fwd Avg Bytes/Bulk', ' Fwd Avg Packets/Bulk', ' Fwd Avg Bulk Rate', ' Bwd Avg Bytes/Bulk', ' Bwd Avg Packets/Bulk', 'Bwd Avg Bulk Rate', 'Subflow Fwd Packets', ' Subflow Fwd Bytes', ' Subflow Bwd Packets', ' Subflow Bwd Bytes', 'Init_Win_bytes_forward', ' Init_Win_bytes_backward', ' act_data_pkt_fwd', ' min_seg_size_forward', 'Active Mean', ' Active Std', ' Active Max', ' Active Min', 'Idle Mean', ' Idle Std', ' Idle Max', ' Idle Min', ' Label']\n",
      "['54865', '3', '2', '0', '12', '0', '6', '6', '6', '0', '0', '0', '0', '0', '4000000', '666666.6667', '3', '0', '3', '3', '3', '3', '0', '3', '3', '0', '0', '0', '0', '0', '0', '0', '0', '0', '40', '0', '666666.6667', '0', '6', '6', '6', '0', '0', '0', '0', '0', '0', '1', '0', '0', '0', '0', '9', '6', '0', '40', '0', '0', '0', '0', '0', '0', '2', '12', '0', '0', '33', '-1', '1', '20', '0', '0', '0', '0', '0', '0', '0', '0', 'BENIGN']\n"
     ]
    }
   ],
   "source": [
    "print(CICIDS_all[0])\n",
    "print(CICIDS_all[1])\n"
   ]
  },
  {
   "cell_type": "code",
   "execution_count": 60,
   "metadata": {},
   "outputs": [],
   "source": [
    "headers = CICIDS_all.pop(0)\n",
    "for row in CICIDS_all:\n",
    "    if \"BENIGN\" in row[len(row)-1]:\n",
    "        row.pop()\n",
    "        CICIDS_benign.append(row)\n",
    "    else:\n",
    "        row.pop()\n",
    "        CICIDS_attacks.append(row)"
   ]
  },
  {
   "cell_type": "code",
   "execution_count": 61,
   "metadata": {},
   "outputs": [
    {
     "data": {
      "text/plain": [
       "['54865',\n",
       " '3',\n",
       " '2',\n",
       " '0',\n",
       " '12',\n",
       " '0',\n",
       " '6',\n",
       " '6',\n",
       " '6',\n",
       " '0',\n",
       " '0',\n",
       " '0',\n",
       " '0',\n",
       " '0',\n",
       " '4000000',\n",
       " '666666.6667',\n",
       " '3',\n",
       " '0',\n",
       " '3',\n",
       " '3',\n",
       " '3',\n",
       " '3',\n",
       " '0',\n",
       " '3',\n",
       " '3',\n",
       " '0',\n",
       " '0',\n",
       " '0',\n",
       " '0',\n",
       " '0',\n",
       " '0',\n",
       " '0',\n",
       " '0',\n",
       " '0',\n",
       " '40',\n",
       " '0',\n",
       " '666666.6667',\n",
       " '0',\n",
       " '6',\n",
       " '6',\n",
       " '6',\n",
       " '0',\n",
       " '0',\n",
       " '0',\n",
       " '0',\n",
       " '0',\n",
       " '0',\n",
       " '1',\n",
       " '0',\n",
       " '0',\n",
       " '0',\n",
       " '0',\n",
       " '9',\n",
       " '6',\n",
       " '0',\n",
       " '40',\n",
       " '0',\n",
       " '0',\n",
       " '0',\n",
       " '0',\n",
       " '0',\n",
       " '0',\n",
       " '2',\n",
       " '12',\n",
       " '0',\n",
       " '0',\n",
       " '33',\n",
       " '-1',\n",
       " '1',\n",
       " '20',\n",
       " '0',\n",
       " '0',\n",
       " '0',\n",
       " '0',\n",
       " '0',\n",
       " '0',\n",
       " '0',\n",
       " '0']"
      ]
     },
     "execution_count": 61,
     "metadata": {},
     "output_type": "execute_result"
    }
   ],
   "source": [
    "# print(len(CICIDS_attacks))\n",
    "# print(len(CICIDS_benign))\n",
    "CICIDS_benign[0]"
   ]
  },
  {
   "cell_type": "code",
   "execution_count": 62,
   "metadata": {},
   "outputs": [],
   "source": [
    "idx = 0\n",
    "openbrace = \"{\"\n",
    "ben = f\"float benign[5][79] = {openbrace}\"\n",
    "for row in CICIDS_benign:\n",
    "    ben += \"{\"\n",
    "    for val in row:\n",
    "        tmp = float(val)\n",
    "        ben += (val)\n",
    "        ben += \", \"\n",
    "    ben = ben[:-2]\n",
    "    ben += \"},\"\n",
    "    idx += 1\n",
    "    if (idx >= 99):\n",
    "        break\n",
    "ben = ben[:-1]\n",
    "ben += \"}\""
   ]
  },
  {
   "cell_type": "code",
   "execution_count": 63,
   "metadata": {},
   "outputs": [],
   "source": [
    "idx = 0\n",
    "openbrace = \"{\"\n",
    "atk = f\"float attack[100][79] = {openbrace}\"\n",
    "for row in CICIDS_attacks:\n",
    "    atk += \"{\"\n",
    "    for val in row:\n",
    "        tmp = float(val)\n",
    "        atk += (val)\n",
    "        atk += \", \"\n",
    "    atk = atk[:-2]\n",
    "    atk += \"},\"\n",
    "    idx += 1\n",
    "    if (idx > 4):\n",
    "        break\n",
    "atk = atk[:-1]\n",
    "atk += \"}\""
   ]
  },
  {
   "cell_type": "code",
   "execution_count": 64,
   "metadata": {},
   "outputs": [
    {
     "data": {
      "text/plain": [
       "'float attack[100][79] = {{80, 1293792, 3, 7, 26, 11607, 20, 0, 8.666666667, 10.26320288, 5840, 0, 1658.142857, 2137.29708, 8991.398927, 7.72921768, 143754.6667, 430865.8067, 1292730, 2, 747, 373.5, 523.9661249, 744, 3, 1293746, 215624.3333, 527671.9348, 1292730, 2, 0, 0, 0, 0, 72, 152, 2.318765304, 5.410452376, 0, 5840, 1057.545455, 1853.437529, 3435230.673, 0, 0, 0, 1, 0, 0, 0, 0, 2, 1163.3, 8.666666667, 1658.142857, 72, 0, 0, 0, 0, 0, 0, 3, 26, 7, 11607, 8192, 229, 2, 20, 0, 0, 0, 0, 0, 0, 0, 0},{80, 4421382, 4, 0, 24, 0, 6, 6, 6, 0, 0, 0, 0, 0, 5.42816703, 0.904694505, 1473794, 2552042.631, 4420639, 340, 4421382, 1473794, 2552042.631, 4420639, 340, 0, 0, 0, 0, 0, 0, 0, 0, 0, 80, 0, 0.904694505, 0, 6, 6, 6, 0, 0, 0, 0, 0, 0, 1, 0, 0, 0, 0, 7.5, 6, 0, 80, 0, 0, 0, 0, 0, 0, 4, 24, 0, 0, 256, -1, 3, 20, 0, 0, 0, 0, 0, 0, 0, 0},{80, 1083538, 3, 6, 26, 11601, 20, 0, 8.666666667, 10.26320288, 4380, 0, 1933.5, 1757.789948, 10730.58813, 8.306123089, 135442.25, 377725.315, 1070206, 41, 12982, 6491, 8165.669109, 12265, 717, 1083407, 216681.4, 477167.0977, 1070206, 41, 0, 0, 0, 0, 72, 132, 2.768707696, 5.537415393, 0, 4380, 1162.7, 1645.241762, 2706820.456, 0, 0, 0, 1, 0, 0, 0, 0, 2, 1291.888889, 8.666666667, 1933.5, 72, 0, 0, 0, 0, 0, 0, 3, 26, 6, 11601, 8192, 229, 2, 20, 0, 0, 0, 0, 0, 0, 0, 0},{80, 80034360, 8, 4, 56, 11601, 20, 0, 7, 5.656854249, 8760, 0, 2900.25, 4128.319301, 145.6499433, 0.149935603, 7275850.909, 21100000, 70600000, 6, 78700000, 11200000, 26300000, 70600000, 247, 1354806, 451602, 777575.2592, 1349464, 190, 0, 0, 0, 0, 172, 92, 0.099957068, 0.049978534, 0, 8760, 897.1538462, 2488.507044, 6192667.308, 0, 0, 0, 0, 1, 0, 0, 0, 0, 971.9166667, 7, 2900.25, 172, 0, 0, 0, 0, 0, 0, 8, 56, 4, 11601, 256, 229, 6, 20, 939, 0, 939, 939, 39300000, 44200000, 70600000, 8072664},{80, 642654, 3, 6, 26, 11607, 20, 0, 8.666666667, 10.26320288, 5840, 0, 1934.5, 2538.919278, 18101.49785, 14.0044254, 80331.75, 226824.6943, 641694, 3, 801, 400.5, 540.9366876, 783, 18, 642493, 128498.6, 286885.1169, 641694, 3, 0, 0, 0, 0, 72, 132, 4.668141799, 9.336283599, 0, 5840, 1163.3, 2138.329153, 4572451.567, 0, 0, 0, 1, 0, 0, 0, 0, 2, 1292.555556, 8.666666667, 1934.5, 72, 0, 0, 0, 0, 0, 0, 3, 26, 6, 11607, 8192, 229, 2, 20, 0, 0, 0, 0, 0, 0, 0, 0}}'"
      ]
     },
     "execution_count": 64,
     "metadata": {},
     "output_type": "execute_result"
    }
   ],
   "source": [
    "\n",
    "atk"
   ]
  },
  {
   "cell_type": "code",
   "execution_count": 65,
   "metadata": {},
   "outputs": [],
   "source": [
    "with open(\"C:\\\\Users\\\\cyphi\\\\OneDrive\\\\Documents\\\\School\\\\256\\\\MLinMCU\\\\tmpholding\\\\CICIDS2017\\\\MachineLearningCSV\\\\MachineLearningCVE\\\\out.cpp\", mode = 'w') as f:\n",
    "    f.write(ben)\n",
    "    f.write(atk)"
   ]
  },
  {
   "cell_type": "code",
   "execution_count": 9,
   "metadata": {},
   "outputs": [
    {
     "name": "stdout",
     "output_type": "stream",
     "text": [
      "[[ -3.3382068  -5.8237023  10.091406    7.605195  -31.639517    4.399083\n",
      "  -10.101579    6.5569634  -0.8240404  -8.178456 ]]\n"
     ]
    }
   ],
   "source": [
    "import numpy as np\n",
    "import tensorflow as tf\n",
    "\n",
    "# Load TFLite model and allocate tensors.\n",
    "interpreter = tf.lite.Interpreter(model_path=\"C:\\\\Users\\\\cyphi\\\\OneDrive\\\\Documents\\\\School\\\\256\\MLinMCU\\\\COMPSCI256\\\\model_sandbox\\\\MNIST\\\\mnistnn.tflite\")\n",
    "interpreter.allocate_tensors()\n",
    "\n",
    "# Get input and output tensors.\n",
    "input_details = interpreter.get_input_details()\n",
    "output_details = interpreter.get_output_details()\n",
    "\n",
    "# Test model on random input data.\n",
    "input_shape = input_details[0]['shape']\n",
    "input_data = np.array(np.random.random_sample(input_shape), dtype=np.float32)\n",
    "interpreter.set_tensor(input_details[0]['index'], input_data)\n",
    "\n",
    "interpreter.invoke()\n",
    "\n",
    "# The function `get_tensor()` returns a copy of the tensor data.\n",
    "# Use `tensor()` in order to get a pointer to the tensor.\n",
    "output_data = interpreter.get_tensor(output_details[0]['index'])\n",
    "print(output_data)"
   ]
  },
  {
   "cell_type": "code",
   "execution_count": 11,
   "metadata": {},
   "outputs": [
    {
     "data": {
      "text/plain": [
       "[{'name': 'serving_default_flatten_input:0',\n",
       "  'index': 0,\n",
       "  'shape': array([ 1, 28, 28]),\n",
       "  'shape_signature': array([-1, 28, 28]),\n",
       "  'dtype': numpy.float32,\n",
       "  'quantization': (0.0, 0),\n",
       "  'quantization_parameters': {'scales': array([], dtype=float32),\n",
       "   'zero_points': array([], dtype=int32),\n",
       "   'quantized_dimension': 0},\n",
       "  'sparsity_parameters': {}}]"
      ]
     },
     "execution_count": 11,
     "metadata": {},
     "output_type": "execute_result"
    }
   ],
   "source": [
    "input_details\n"
   ]
  },
  {
   "cell_type": "code",
   "execution_count": 12,
   "metadata": {},
   "outputs": [],
   "source": [
    "import csv\n",
    "\n",
    "mnist_labels = []\n",
    "mnist_pics = []\n",
    "\n",
    "with open(\"C:\\\\Users\\\\cyphi\\\\OneDrive\\\\Documents\\\\School\\\\256\\\\MLinMCU\\\\tmpholding\\\\MNIST\\\\fashion-mnist_test.csv\") as f:\n",
    "    dat = csv.reader(f)\n",
    "    for row in dat:\n",
    "        mnist_labels.append(row.pop(0))\n",
    "        mnist_pics.append(row)"
   ]
  },
  {
   "cell_type": "code",
   "execution_count": 21,
   "metadata": {},
   "outputs": [
    {
     "data": {
      "text/plain": [
       "10000"
      ]
     },
     "execution_count": 21,
     "metadata": {},
     "output_type": "execute_result"
    }
   ],
   "source": [
    "len(mnist_labels)"
   ]
  },
  {
   "cell_type": "code",
   "execution_count": 26,
   "metadata": {},
   "outputs": [],
   "source": [
    "with open(\"C:\\\\Users\\\\cyphi\\\\OneDrive\\\\Documents\\\\School\\\\256\\\\MLinMCU\\\\COMPSCI256\\\\model_sandbox\\\\MNIST\\\\picdat.h\", mode = 'w') as f:\n",
    "    openbrace = \"{\"\n",
    "    stringtowrite = f\"int labels[] = {openbrace}\"\n",
    "    idx = 0\n",
    "    for lab in mnist_labels:\n",
    "        stringtowrite += lab\n",
    "        stringtowrite += \", \"\n",
    "        idx += 1\n",
    "        if idx > 10:\n",
    "            break\n",
    "    stringtowrite = stringtowrite[:-2]\n",
    "    stringtowrite += \"};\""
   ]
  },
  {
   "cell_type": "code",
   "execution_count": 27,
   "metadata": {},
   "outputs": [
    {
     "data": {
      "text/plain": [
       "'int labels[] = {0, 1, 2, 2, 3, 2, 8, 6, 5, 0, 3};'"
      ]
     },
     "execution_count": 27,
     "metadata": {},
     "output_type": "execute_result"
    }
   ],
   "source": [
    "stringtowrite"
   ]
  }
 ],
 "metadata": {
  "kernelspec": {
   "display_name": "Python 3",
   "language": "python",
   "name": "python3"
  },
  "language_info": {
   "codemirror_mode": {
    "name": "ipython",
    "version": 3
   },
   "file_extension": ".py",
   "mimetype": "text/x-python",
   "name": "python",
   "nbconvert_exporter": "python",
   "pygments_lexer": "ipython3",
   "version": "3.11.6"
  }
 },
 "nbformat": 4,
 "nbformat_minor": 2
}
